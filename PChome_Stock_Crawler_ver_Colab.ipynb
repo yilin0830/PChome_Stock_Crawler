{
  "nbformat": 4,
  "nbformat_minor": 0,
  "metadata": {
    "colab": {
      "name": "PChome_Stock_Crawler.ipynb",
      "provenance": []
    },
    "kernelspec": {
      "name": "python3",
      "display_name": "Python 3"
    },
    "language_info": {
      "name": "python"
    }
  },
  "cells": [
    {
      "cell_type": "code",
      "execution_count": 1,
      "metadata": {
        "colab": {
          "base_uri": "https://localhost:8080/"
        },
        "id": "WMZ139yOQZJ8",
        "outputId": "c4c39245-b888-4ded-8721-5dc74b8c0d22"
      },
      "outputs": [
        {
          "output_type": "stream",
          "name": "stdout",
          "text": [
            "Collecting selenium\n",
            "  Downloading selenium-4.1.5-py3-none-any.whl (979 kB)\n",
            "\u001b[?25l\r\u001b[K     |▍                               | 10 kB 24.8 MB/s eta 0:00:01\r\u001b[K     |▊                               | 20 kB 30.9 MB/s eta 0:00:01\r\u001b[K     |█                               | 30 kB 25.9 MB/s eta 0:00:01\r\u001b[K     |█▍                              | 40 kB 12.3 MB/s eta 0:00:01\r\u001b[K     |█▊                              | 51 kB 11.4 MB/s eta 0:00:01\r\u001b[K     |██                              | 61 kB 13.1 MB/s eta 0:00:01\r\u001b[K     |██▍                             | 71 kB 13.8 MB/s eta 0:00:01\r\u001b[K     |██▊                             | 81 kB 13.0 MB/s eta 0:00:01\r\u001b[K     |███                             | 92 kB 14.3 MB/s eta 0:00:01\r\u001b[K     |███▍                            | 102 kB 13.5 MB/s eta 0:00:01\r\u001b[K     |███▊                            | 112 kB 13.5 MB/s eta 0:00:01\r\u001b[K     |████                            | 122 kB 13.5 MB/s eta 0:00:01\r\u001b[K     |████▍                           | 133 kB 13.5 MB/s eta 0:00:01\r\u001b[K     |████▊                           | 143 kB 13.5 MB/s eta 0:00:01\r\u001b[K     |█████                           | 153 kB 13.5 MB/s eta 0:00:01\r\u001b[K     |█████▍                          | 163 kB 13.5 MB/s eta 0:00:01\r\u001b[K     |█████▊                          | 174 kB 13.5 MB/s eta 0:00:01\r\u001b[K     |██████                          | 184 kB 13.5 MB/s eta 0:00:01\r\u001b[K     |██████▍                         | 194 kB 13.5 MB/s eta 0:00:01\r\u001b[K     |██████▊                         | 204 kB 13.5 MB/s eta 0:00:01\r\u001b[K     |███████                         | 215 kB 13.5 MB/s eta 0:00:01\r\u001b[K     |███████▍                        | 225 kB 13.5 MB/s eta 0:00:01\r\u001b[K     |███████▊                        | 235 kB 13.5 MB/s eta 0:00:01\r\u001b[K     |████████                        | 245 kB 13.5 MB/s eta 0:00:01\r\u001b[K     |████████▍                       | 256 kB 13.5 MB/s eta 0:00:01\r\u001b[K     |████████▊                       | 266 kB 13.5 MB/s eta 0:00:01\r\u001b[K     |█████████                       | 276 kB 13.5 MB/s eta 0:00:01\r\u001b[K     |█████████▍                      | 286 kB 13.5 MB/s eta 0:00:01\r\u001b[K     |█████████▊                      | 296 kB 13.5 MB/s eta 0:00:01\r\u001b[K     |██████████                      | 307 kB 13.5 MB/s eta 0:00:01\r\u001b[K     |██████████▍                     | 317 kB 13.5 MB/s eta 0:00:01\r\u001b[K     |██████████▊                     | 327 kB 13.5 MB/s eta 0:00:01\r\u001b[K     |███████████                     | 337 kB 13.5 MB/s eta 0:00:01\r\u001b[K     |███████████▍                    | 348 kB 13.5 MB/s eta 0:00:01\r\u001b[K     |███████████▊                    | 358 kB 13.5 MB/s eta 0:00:01\r\u001b[K     |████████████                    | 368 kB 13.5 MB/s eta 0:00:01\r\u001b[K     |████████████▍                   | 378 kB 13.5 MB/s eta 0:00:01\r\u001b[K     |████████████▊                   | 389 kB 13.5 MB/s eta 0:00:01\r\u001b[K     |█████████████                   | 399 kB 13.5 MB/s eta 0:00:01\r\u001b[K     |█████████████▍                  | 409 kB 13.5 MB/s eta 0:00:01\r\u001b[K     |█████████████▊                  | 419 kB 13.5 MB/s eta 0:00:01\r\u001b[K     |██████████████                  | 430 kB 13.5 MB/s eta 0:00:01\r\u001b[K     |██████████████▍                 | 440 kB 13.5 MB/s eta 0:00:01\r\u001b[K     |██████████████▊                 | 450 kB 13.5 MB/s eta 0:00:01\r\u001b[K     |███████████████                 | 460 kB 13.5 MB/s eta 0:00:01\r\u001b[K     |███████████████▍                | 471 kB 13.5 MB/s eta 0:00:01\r\u001b[K     |███████████████▊                | 481 kB 13.5 MB/s eta 0:00:01\r\u001b[K     |████████████████                | 491 kB 13.5 MB/s eta 0:00:01\r\u001b[K     |████████████████▍               | 501 kB 13.5 MB/s eta 0:00:01\r\u001b[K     |████████████████▊               | 512 kB 13.5 MB/s eta 0:00:01\r\u001b[K     |█████████████████               | 522 kB 13.5 MB/s eta 0:00:01\r\u001b[K     |█████████████████▍              | 532 kB 13.5 MB/s eta 0:00:01\r\u001b[K     |█████████████████▊              | 542 kB 13.5 MB/s eta 0:00:01\r\u001b[K     |██████████████████              | 552 kB 13.5 MB/s eta 0:00:01\r\u001b[K     |██████████████████▍             | 563 kB 13.5 MB/s eta 0:00:01\r\u001b[K     |██████████████████▊             | 573 kB 13.5 MB/s eta 0:00:01\r\u001b[K     |███████████████████             | 583 kB 13.5 MB/s eta 0:00:01\r\u001b[K     |███████████████████▍            | 593 kB 13.5 MB/s eta 0:00:01\r\u001b[K     |███████████████████▊            | 604 kB 13.5 MB/s eta 0:00:01\r\u001b[K     |████████████████████            | 614 kB 13.5 MB/s eta 0:00:01\r\u001b[K     |████████████████████▍           | 624 kB 13.5 MB/s eta 0:00:01\r\u001b[K     |████████████████████▊           | 634 kB 13.5 MB/s eta 0:00:01\r\u001b[K     |█████████████████████           | 645 kB 13.5 MB/s eta 0:00:01\r\u001b[K     |█████████████████████▍          | 655 kB 13.5 MB/s eta 0:00:01\r\u001b[K     |█████████████████████▊          | 665 kB 13.5 MB/s eta 0:00:01\r\u001b[K     |██████████████████████          | 675 kB 13.5 MB/s eta 0:00:01\r\u001b[K     |██████████████████████▍         | 686 kB 13.5 MB/s eta 0:00:01\r\u001b[K     |██████████████████████▊         | 696 kB 13.5 MB/s eta 0:00:01\r\u001b[K     |███████████████████████         | 706 kB 13.5 MB/s eta 0:00:01\r\u001b[K     |███████████████████████▍        | 716 kB 13.5 MB/s eta 0:00:01\r\u001b[K     |███████████████████████▊        | 727 kB 13.5 MB/s eta 0:00:01\r\u001b[K     |████████████████████████        | 737 kB 13.5 MB/s eta 0:00:01\r\u001b[K     |████████████████████████▍       | 747 kB 13.5 MB/s eta 0:00:01\r\u001b[K     |████████████████████████▊       | 757 kB 13.5 MB/s eta 0:00:01\r\u001b[K     |█████████████████████████       | 768 kB 13.5 MB/s eta 0:00:01\r\u001b[K     |█████████████████████████▍      | 778 kB 13.5 MB/s eta 0:00:01\r\u001b[K     |█████████████████████████▊      | 788 kB 13.5 MB/s eta 0:00:01\r\u001b[K     |██████████████████████████      | 798 kB 13.5 MB/s eta 0:00:01\r\u001b[K     |██████████████████████████▍     | 808 kB 13.5 MB/s eta 0:00:01\r\u001b[K     |██████████████████████████▊     | 819 kB 13.5 MB/s eta 0:00:01\r\u001b[K     |███████████████████████████     | 829 kB 13.5 MB/s eta 0:00:01\r\u001b[K     |███████████████████████████▍    | 839 kB 13.5 MB/s eta 0:00:01\r\u001b[K     |███████████████████████████▊    | 849 kB 13.5 MB/s eta 0:00:01\r\u001b[K     |████████████████████████████    | 860 kB 13.5 MB/s eta 0:00:01\r\u001b[K     |████████████████████████████▍   | 870 kB 13.5 MB/s eta 0:00:01\r\u001b[K     |████████████████████████████▊   | 880 kB 13.5 MB/s eta 0:00:01\r\u001b[K     |█████████████████████████████   | 890 kB 13.5 MB/s eta 0:00:01\r\u001b[K     |█████████████████████████████▍  | 901 kB 13.5 MB/s eta 0:00:01\r\u001b[K     |█████████████████████████████▊  | 911 kB 13.5 MB/s eta 0:00:01\r\u001b[K     |██████████████████████████████▏ | 921 kB 13.5 MB/s eta 0:00:01\r\u001b[K     |██████████████████████████████▌ | 931 kB 13.5 MB/s eta 0:00:01\r\u001b[K     |██████████████████████████████▉ | 942 kB 13.5 MB/s eta 0:00:01\r\u001b[K     |███████████████████████████████▏| 952 kB 13.5 MB/s eta 0:00:01\r\u001b[K     |███████████████████████████████▌| 962 kB 13.5 MB/s eta 0:00:01\r\u001b[K     |███████████████████████████████▉| 972 kB 13.5 MB/s eta 0:00:01\r\u001b[K     |████████████████████████████████| 979 kB 13.5 MB/s \n",
            "\u001b[?25hCollecting urllib3[secure,socks]~=1.26\n",
            "  Downloading urllib3-1.26.9-py2.py3-none-any.whl (138 kB)\n",
            "\u001b[K     |████████████████████████████████| 138 kB 72.3 MB/s \n",
            "\u001b[?25hCollecting trio-websocket~=0.9\n",
            "  Downloading trio_websocket-0.9.2-py3-none-any.whl (16 kB)\n",
            "Collecting trio~=0.17\n",
            "  Downloading trio-0.20.0-py3-none-any.whl (359 kB)\n",
            "\u001b[K     |████████████████████████████████| 359 kB 55.1 MB/s \n",
            "\u001b[?25hRequirement already satisfied: idna in /usr/local/lib/python3.7/dist-packages (from trio~=0.17->selenium) (2.10)\n",
            "Collecting async-generator>=1.9\n",
            "  Downloading async_generator-1.10-py3-none-any.whl (18 kB)\n",
            "Collecting outcome\n",
            "  Downloading outcome-1.1.0-py2.py3-none-any.whl (9.7 kB)\n",
            "Requirement already satisfied: sortedcontainers in /usr/local/lib/python3.7/dist-packages (from trio~=0.17->selenium) (2.4.0)\n",
            "Collecting sniffio\n",
            "  Downloading sniffio-1.2.0-py3-none-any.whl (10 kB)\n",
            "Requirement already satisfied: attrs>=19.2.0 in /usr/local/lib/python3.7/dist-packages (from trio~=0.17->selenium) (21.4.0)\n",
            "Collecting wsproto>=0.14\n",
            "  Downloading wsproto-1.1.0-py3-none-any.whl (24 kB)\n",
            "Requirement already satisfied: PySocks!=1.5.7,<2.0,>=1.5.6 in /usr/local/lib/python3.7/dist-packages (from urllib3[secure,socks]~=1.26->selenium) (1.7.1)\n",
            "Collecting pyOpenSSL>=0.14\n",
            "  Downloading pyOpenSSL-22.0.0-py2.py3-none-any.whl (55 kB)\n",
            "\u001b[K     |████████████████████████████████| 55 kB 4.5 MB/s \n",
            "\u001b[?25hCollecting cryptography>=1.3.4\n",
            "  Downloading cryptography-37.0.2-cp36-abi3-manylinux_2_24_x86_64.whl (4.0 MB)\n",
            "\u001b[K     |████████████████████████████████| 4.0 MB 55.5 MB/s \n",
            "\u001b[?25hRequirement already satisfied: certifi in /usr/local/lib/python3.7/dist-packages (from urllib3[secure,socks]~=1.26->selenium) (2021.10.8)\n",
            "Requirement already satisfied: cffi>=1.12 in /usr/local/lib/python3.7/dist-packages (from cryptography>=1.3.4->urllib3[secure,socks]~=1.26->selenium) (1.15.0)\n",
            "Requirement already satisfied: pycparser in /usr/local/lib/python3.7/dist-packages (from cffi>=1.12->cryptography>=1.3.4->urllib3[secure,socks]~=1.26->selenium) (2.21)\n",
            "Collecting h11<1,>=0.9.0\n",
            "  Downloading h11-0.13.0-py3-none-any.whl (58 kB)\n",
            "\u001b[K     |████████████████████████████████| 58 kB 6.9 MB/s \n",
            "\u001b[?25hRequirement already satisfied: typing-extensions in /usr/local/lib/python3.7/dist-packages (from h11<1,>=0.9.0->wsproto>=0.14->trio-websocket~=0.9->selenium) (4.2.0)\n",
            "Installing collected packages: sniffio, outcome, h11, cryptography, async-generator, wsproto, urllib3, trio, pyOpenSSL, trio-websocket, selenium\n",
            "  Attempting uninstall: urllib3\n",
            "    Found existing installation: urllib3 1.24.3\n",
            "    Uninstalling urllib3-1.24.3:\n",
            "      Successfully uninstalled urllib3-1.24.3\n",
            "\u001b[31mERROR: pip's dependency resolver does not currently take into account all the packages that are installed. This behaviour is the source of the following dependency conflicts.\n",
            "requests 2.23.0 requires urllib3!=1.25.0,!=1.25.1,<1.26,>=1.21.1, but you have urllib3 1.26.9 which is incompatible.\n",
            "datascience 0.10.6 requires folium==0.2.1, but you have folium 0.8.3 which is incompatible.\u001b[0m\n",
            "Successfully installed async-generator-1.10 cryptography-37.0.2 h11-0.13.0 outcome-1.1.0 pyOpenSSL-22.0.0 selenium-4.1.5 sniffio-1.2.0 trio-0.20.0 trio-websocket-0.9.2 urllib3-1.26.9 wsproto-1.1.0\n",
            "Get:1 http://security.ubuntu.com/ubuntu bionic-security InRelease [88.7 kB]\n",
            "Hit:2 http://ppa.launchpad.net/c2d4u.team/c2d4u4.0+/ubuntu bionic InRelease\n",
            "Hit:3 http://archive.ubuntu.com/ubuntu bionic InRelease\n",
            "Get:4 http://archive.ubuntu.com/ubuntu bionic-updates InRelease [88.7 kB]\n",
            "Get:5 https://cloud.r-project.org/bin/linux/ubuntu bionic-cran40/ InRelease [3,626 B]\n",
            "Hit:6 https://developer.download.nvidia.com/compute/cuda/repos/ubuntu1804/x86_64  InRelease\n",
            "Hit:7 http://ppa.launchpad.net/cran/libgit2/ubuntu bionic InRelease\n",
            "Hit:8 http://ppa.launchpad.net/deadsnakes/ppa/ubuntu bionic InRelease\n",
            "Get:9 http://archive.ubuntu.com/ubuntu bionic-backports InRelease [74.6 kB]\n",
            "Get:10 http://ppa.launchpad.net/graphics-drivers/ppa/ubuntu bionic InRelease [21.3 kB]\n",
            "Ign:11 https://developer.download.nvidia.com/compute/machine-learning/repos/ubuntu1804/x86_64  InRelease\n",
            "Hit:12 https://developer.download.nvidia.com/compute/machine-learning/repos/ubuntu1804/x86_64  Release\n",
            "Get:13 http://security.ubuntu.com/ubuntu bionic-security/universe amd64 Packages [1,503 kB]\n",
            "Get:14 http://security.ubuntu.com/ubuntu bionic-security/main amd64 Packages [2,765 kB]\n",
            "Get:15 http://security.ubuntu.com/ubuntu bionic-security/restricted amd64 Packages [932 kB]\n",
            "Get:16 http://security.ubuntu.com/ubuntu bionic-security/multiverse amd64 Packages [22.8 kB]\n",
            "Get:17 http://archive.ubuntu.com/ubuntu bionic-updates/universe amd64 Packages [2,277 kB]\n",
            "Get:18 http://archive.ubuntu.com/ubuntu bionic-updates/main amd64 Packages [3,199 kB]\n",
            "Get:19 http://archive.ubuntu.com/ubuntu bionic-updates/restricted amd64 Packages [966 kB]\n",
            "Get:20 http://archive.ubuntu.com/ubuntu bionic-updates/multiverse amd64 Packages [29.8 kB]\n",
            "Get:21 http://ppa.launchpad.net/graphics-drivers/ppa/ubuntu bionic/main amd64 Packages [44.3 kB]\n",
            "Fetched 12.0 MB in 2s (4,985 kB/s)\n",
            "Reading package lists... Done\n",
            "Reading package lists... Done\n",
            "Building dependency tree       \n",
            "Reading state information... Done\n",
            "The following package was automatically installed and is no longer required:\n",
            "  libnvidia-common-460\n",
            "Use 'apt autoremove' to remove it.\n",
            "The following additional packages will be installed:\n",
            "  chromium-browser chromium-browser-l10n chromium-codecs-ffmpeg-extra\n",
            "Suggested packages:\n",
            "  webaccounts-chromium-extension unity-chromium-extension\n",
            "The following NEW packages will be installed:\n",
            "  chromium-browser chromium-browser-l10n chromium-chromedriver\n",
            "  chromium-codecs-ffmpeg-extra\n",
            "0 upgraded, 4 newly installed, 0 to remove and 47 not upgraded.\n",
            "Need to get 89.8 MB of archives.\n",
            "After this operation, 302 MB of additional disk space will be used.\n",
            "Get:1 http://archive.ubuntu.com/ubuntu bionic-updates/universe amd64 chromium-codecs-ffmpeg-extra amd64 101.0.4951.64-0ubuntu0.18.04.1 [1,142 kB]\n",
            "Get:2 http://archive.ubuntu.com/ubuntu bionic-updates/universe amd64 chromium-browser amd64 101.0.4951.64-0ubuntu0.18.04.1 [78.5 MB]\n",
            "Get:3 http://archive.ubuntu.com/ubuntu bionic-updates/universe amd64 chromium-browser-l10n all 101.0.4951.64-0ubuntu0.18.04.1 [4,980 kB]\n",
            "Get:4 http://archive.ubuntu.com/ubuntu bionic-updates/universe amd64 chromium-chromedriver amd64 101.0.4951.64-0ubuntu0.18.04.1 [5,153 kB]\n",
            "Fetched 89.8 MB in 2s (58.8 MB/s)\n",
            "Selecting previously unselected package chromium-codecs-ffmpeg-extra.\n",
            "(Reading database ... 155629 files and directories currently installed.)\n",
            "Preparing to unpack .../chromium-codecs-ffmpeg-extra_101.0.4951.64-0ubuntu0.18.04.1_amd64.deb ...\n",
            "Unpacking chromium-codecs-ffmpeg-extra (101.0.4951.64-0ubuntu0.18.04.1) ...\n",
            "Selecting previously unselected package chromium-browser.\n",
            "Preparing to unpack .../chromium-browser_101.0.4951.64-0ubuntu0.18.04.1_amd64.deb ...\n",
            "Unpacking chromium-browser (101.0.4951.64-0ubuntu0.18.04.1) ...\n",
            "Selecting previously unselected package chromium-browser-l10n.\n",
            "Preparing to unpack .../chromium-browser-l10n_101.0.4951.64-0ubuntu0.18.04.1_all.deb ...\n",
            "Unpacking chromium-browser-l10n (101.0.4951.64-0ubuntu0.18.04.1) ...\n",
            "Selecting previously unselected package chromium-chromedriver.\n",
            "Preparing to unpack .../chromium-chromedriver_101.0.4951.64-0ubuntu0.18.04.1_amd64.deb ...\n",
            "Unpacking chromium-chromedriver (101.0.4951.64-0ubuntu0.18.04.1) ...\n",
            "Setting up chromium-codecs-ffmpeg-extra (101.0.4951.64-0ubuntu0.18.04.1) ...\n",
            "Setting up chromium-browser (101.0.4951.64-0ubuntu0.18.04.1) ...\n",
            "update-alternatives: using /usr/bin/chromium-browser to provide /usr/bin/x-www-browser (x-www-browser) in auto mode\n",
            "update-alternatives: using /usr/bin/chromium-browser to provide /usr/bin/gnome-www-browser (gnome-www-browser) in auto mode\n",
            "Setting up chromium-chromedriver (101.0.4951.64-0ubuntu0.18.04.1) ...\n",
            "Setting up chromium-browser-l10n (101.0.4951.64-0ubuntu0.18.04.1) ...\n",
            "Processing triggers for man-db (2.8.3-2ubuntu0.1) ...\n",
            "Processing triggers for hicolor-icon-theme (0.17-2) ...\n",
            "Processing triggers for mime-support (3.60ubuntu1) ...\n",
            "Processing triggers for libc-bin (2.27-3ubuntu1.3) ...\n",
            "/sbin/ldconfig.real: /usr/local/lib/python3.7/dist-packages/ideep4py/lib/libmkldnn.so.0 is not a symbolic link\n",
            "\n",
            "cp: '/usr/lib/chromium-browser/chromedriver' and '/usr/bin/chromedriver' are the same file\n"
          ]
        }
      ],
      "source": [
        "!pip install selenium\n",
        "!apt-get update # to update ubuntu to correctly run apt install\n",
        "!apt install chromium-chromedriver\n",
        "!cp /usr/lib/chromium-browser/chromedriver /usr/bin\n",
        "import sys\n",
        "sys.path.insert(0,'/usr/lib/chromium-browser/chromedriver')\n",
        "from selenium import webdriver\n",
        "chrome_options = webdriver.ChromeOptions()\n",
        "chrome_options.add_argument('--headless')\n",
        "chrome_options.add_argument('--no-sandbox')\n",
        "chrome_options.add_argument('--disable-dev-shm-usage')"
      ]
    },
    {
      "cell_type": "code",
      "source": [
        "import csv\n",
        "driver = webdriver.Chrome('chromedriver',chrome_options=chrome_options)\n",
        "\n",
        "driver.get('https://pchome.megatime.com.tw/stock/sto0/ock3/sid2330.html')\n",
        "table = driver.find_element_by_xpath(\"//table[@id='tb_chart']\")\n",
        "with open('result.csv', 'w', newline='') as csvfile:\n",
        "    wr = csv.writer(csvfile)\n",
        "    for row in table.find_elements_by_css_selector('tr'):\n",
        "        wr.writerow([d.text for d in row.find_elements_by_css_selector('td')])"
      ],
      "metadata": {
        "colab": {
          "base_uri": "https://localhost:8080/"
        },
        "id": "4bOGhaBLQk-_",
        "outputId": "b8d64a46-6788-49d5-ca7a-318ccfa10e00"
      },
      "execution_count": null,
      "outputs": [
        {
          "output_type": "stream",
          "name": "stderr",
          "text": [
            "/usr/local/lib/python3.7/dist-packages/ipykernel_launcher.py:2: DeprecationWarning: use options instead of chrome_options\n",
            "  \n",
            "/usr/local/lib/python3.7/dist-packages/ipykernel_launcher.py:5: DeprecationWarning: find_element_by_xpath is deprecated. Please use find_element(by=By.XPATH, value=xpath) instead\n",
            "  \"\"\"\n",
            "/usr/local/lib/python3.7/dist-packages/ipykernel_launcher.py:8: DeprecationWarning: find_elements_by_css_selector is deprecated. Please use find_elements(by=By.CSS_SELECTOR, value=css_selector) instead\n",
            "  \n",
            "/usr/local/lib/python3.7/dist-packages/ipykernel_launcher.py:9: DeprecationWarning: find_elements_by_css_selector is deprecated. Please use find_elements(by=By.CSS_SELECTOR, value=css_selector) instead\n",
            "  if __name__ == '__main__':\n"
          ]
        }
      ]
    },
    {
      "cell_type": "code",
      "source": [
        ""
      ],
      "metadata": {
        "id": "9tZSQRqDQwf9"
      },
      "execution_count": null,
      "outputs": []
    }
  ]
}